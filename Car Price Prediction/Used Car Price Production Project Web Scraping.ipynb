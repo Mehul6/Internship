{
 "cells": [
  {
   "cell_type": "markdown",
   "id": "2a71d877",
   "metadata": {},
   "source": [
    "<font size=6><b>Used Car Price Prediction Project Data Collection"
   ]
  },
  {
   "cell_type": "markdown",
   "id": "cc018ad8",
   "metadata": {},
   "source": [
    "<font size=5><b>Data Collection Sources:"
   ]
  },
  {
   "cell_type": "markdown",
   "id": "0283cec6",
   "metadata": {},
   "source": [
    "<ul>\n",
    "        <li>Cars 24 website - https://www.cars24.com/\n",
    "        <li>Car Dekho website - https://www.cardekho.com/\n",
    "        <li>Ola Cars website - https://www.ola.cars/\n",
    "        <li>Olx website - https://www.olx.in/\n",
    "</ul>      "
   ]
  },
  {
   "cell_type": "markdown",
   "id": "5ee74022",
   "metadata": {},
   "source": [
    "<font size=3><b>Importing all the necessary libraries"
   ]
  },
  {
   "cell_type": "code",
   "execution_count": null,
   "id": "db0f0f23",
   "metadata": {},
   "outputs": [],
   "source": [
    "import warnings\n",
    "warnings.simplefilter(\"ignore\")\n",
    "warnings.filterwarnings(\"ignore\")\n",
    "\n",
    "import time, sys\n",
    "import tqdm.notebook as tqdm\n",
    "import pandas as pd\n",
    "import numpy as np\n",
    "\n",
    "import requests\n",
    "import selenium\n",
    "from bs4 import BeautifulSoup\n",
    "from selenium import webdriver\n",
    "from urllib.parse import urljoin\n",
    "from selenium.webdriver.common.by import By\n",
    "from selenium.webdriver.support.ui import WebDriverWait\n",
    "from selenium.webdriver.support import expected_conditions as ec\n",
    "from selenium.common.exceptions import TimeoutException, StaleElementReferenceException\n",
    "from selenium.common.exceptions import NoSuchElementException, ElementClickInterceptedException"
   ]
  },
  {
   "cell_type": "code",
   "execution_count": null,
   "id": "a2be811e",
   "metadata": {},
   "outputs": [],
   "source": [
    "url1 = \"https://www.cars24.com/buy-used-cars/\"\n",
    "url2 = \"https://www.cardekho.com/\"\n",
    "url3 = \"https://www.ola.cars/\"\n",
    "url4 = \"https://www.olx.in/cars_c84\""
   ]
  },
  {
   "cell_type": "markdown",
   "id": "64be1ef4",
   "metadata": {},
   "source": [
    "<font size=4><b>Collecting Data from OLX Cars webpage"
   ]
  },
  {
   "cell_type": "code",
   "execution_count": null,
   "id": "87f84fac",
   "metadata": {},
   "outputs": [],
   "source": [
    "driver = webdriver.Chrome('chromedriver.exe')\n",
    "driver.get(url4)\n",
    "driver.maximize_window()"
   ]
  },
  {
   "cell_type": "code",
   "execution_count": null,
   "id": "d62e8246",
   "metadata": {},
   "outputs": [],
   "source": [
    "# creating empty lists\n",
    "location = []\n",
    "year = []\n",
    "kms_driven = []\n",
    "car_model = []\n",
    "owners = []\n",
    "transmission = []\n",
    "fuel_type = []\n",
    "price = []\n",
    "prod_URL=[]\n",
    "\n",
    "\n",
    "# getting the URL of the cars\n",
    "for i in range(0,500):\n",
    "    url=driver.find_elements_by_xpath(\"//ul[@class='rl3f9 _3mXOU']/li/a\")\n",
    "    for i in url:\n",
    "        prod_URL.append(i.get_attribute('href'))\n",
    "    try:\n",
    "        next_btn=driver.find_element_by_xpath(\"//button[@class='rui-39-wj rui-3evoE rui-1JPTg']\").click()\n",
    "    except NoSuchElementException:\n",
    "        pass\n",
    "    \n",
    "    \n",
    "for i in prod_URL:\n",
    "    driver.get(i)    \n",
    "\n",
    "    #Extracting car name\n",
    "    try:\n",
    "        brand.append(driver.find_element_by_xpath(\"//div[@class='_3_knn']/div/span[2]\").text)\n",
    "    except NoSuchElementException as e:\n",
    "        brand.append(\"-\")\n",
    "        \n",
    "    #Extracting the year\n",
    "    try:\n",
    "        year.append(driver.find_element_by_xpath(\"//span[@data-aut-id='value_year']\").text)\n",
    "    except NoSuchElementException as e:\n",
    "        year.append(\"-\")\n",
    "        \n",
    "    #Extracting the fuel consumed\n",
    "    try:\n",
    "        fuel.append(driver.find_element_by_xpath(\"//span[@data-aut-id='value_petrol']\").text)\n",
    "    except NoSuchElementException as e:\n",
    "        fuel.append(\"-\")  \n",
    "        \n",
    "    #Extracting the transmission\n",
    "    try:\n",
    "        transmission.append(driver.find_element_by_xpath(\"//span[@data-aut-id='value_transmission']\").text)\n",
    "    except NoSuchElementException as e:\n",
    "        transmission.append(\"-\") \n",
    "        \n",
    "    #Extracting km driven\n",
    "    try:\n",
    "        km.append(driver.find_element_by_xpath(\"//span[@data-aut-id='value_mileage']\").text)\n",
    "    except NoSuchElementException as e:\n",
    "        km.append(\"-\") \n",
    "        \n",
    "    #Extracting the price details\n",
    "    try:\n",
    "        price.append(driver.find_element_by_xpath(\"//span[@data-aut-id='itemPrice']\").text.replace('₹',''))\n",
    "    except NoSuchElementException as e:\n",
    "        price.append(\"-\")\n",
    "    "
   ]
  },
  {
   "cell_type": "code",
   "execution_count": null,
   "id": "de6212e5",
   "metadata": {},
   "outputs": [],
   "source": [
    "# Creating a dataframe and checking the data extracted\n",
    "cars=pd.DataFrame({'place':location,'model':brand,'year':year,'price':price,'km_driven':km,'owners':owners,\n",
    "                   'fuel':fuel,'transmission':transmission})"
   ]
  },
  {
   "cell_type": "markdown",
   "id": "d34d2b0f",
   "metadata": {},
   "source": [
    "<font size=4><b>Collecting Data from Car dekho webpage"
   ]
  },
  {
   "cell_type": "code",
   "execution_count": null,
   "id": "93bdbae4",
   "metadata": {},
   "outputs": [],
   "source": [
    "page = requests.get(url2)\n",
    "print(\"Legality Response number from Car Dekho URL is:\", page) # to show the response output from the webpage\n",
    "soup = BeautifulSoup(page.content)"
   ]
  },
  {
   "cell_type": "markdown",
   "id": "0fafb51e",
   "metadata": {},
   "source": [
    "<b>Since the legality response from the website is not 200 we cannot perform web scraping here and therefore we shall ignore the further process."
   ]
  },
  {
   "cell_type": "markdown",
   "id": "0ecfd238",
   "metadata": {},
   "source": [
    "<font size=4><b>Collecting Data from OLA Cars webpage"
   ]
  },
  {
   "cell_type": "code",
   "execution_count": null,
   "id": "52e79d4d",
   "metadata": {},
   "outputs": [],
   "source": [
    "page = requests.get(url3)\n",
    "print(\"Legality Response number from Ola Cars URL is:\", page) # to show the response output from the webpage\n",
    "soup = BeautifulSoup(page.content)"
   ]
  },
  {
   "cell_type": "markdown",
   "id": "cedeb32e",
   "metadata": {},
   "source": [
    "<b>Here even though the legality response is 200 we are unable to inspect the webpage as right click is disabled on the website therefore web scraping in such a scenario is not possible."
   ]
  },
  {
   "cell_type": "markdown",
   "id": "32ec50c8",
   "metadata": {},
   "source": [
    "<font size=4><b>Collecting Data from Cars 24 webpage"
   ]
  },
  {
   "cell_type": "code",
   "execution_count": null,
   "id": "76f4c609",
   "metadata": {},
   "outputs": [],
   "source": [
    "page = requests.get(url1)\n",
    "print(\"Legality Response number from Cars 24 URL is:\", page) # to show the response output from the webpage\n",
    "soup = BeautifulSoup(page.content)"
   ]
  },
  {
   "cell_type": "code",
   "execution_count": null,
   "id": "a53a7bbc",
   "metadata": {},
   "outputs": [],
   "source": [
    "driver = webdriver.Chrome('chromedriver.exe')\n",
    "driver.get(url1)\n",
    "driver.maximize_window()"
   ]
  },
  {
   "cell_type": "code",
   "execution_count": null,
   "id": "19e20d5e",
   "metadata": {},
   "outputs": [],
   "source": [
    "viewall=driver.find_element(By.XPATH,\"//div[@class='_2AvHl']/button/span\").click()"
   ]
  },
  {
   "cell_type": "code",
   "execution_count": null,
   "id": "54586d3a",
   "metadata": {},
   "outputs": [],
   "source": [
    "urls = []\n",
    "for i in driver.find_elements_by_xpath(\"//div[@class='col-4']//a\"):\n",
    "    urls.append(i.get_attribute(\"href\"))\n",
    "\n",
    "for i in driver.find_elements_by_xpath(\"//div[@class='_1l4fi']//a\"):\n",
    "    urls.append(i.get_attribute(\"href\"))"
   ]
  },
  {
   "cell_type": "code",
   "execution_count": null,
   "id": "e81b695d",
   "metadata": {},
   "outputs": [],
   "source": [
    "location = []\n",
    "year = []\n",
    "kms_driven = []\n",
    "car_model = []\n",
    "owners = []\n",
    "transmission = []\n",
    "fuel_type = []\n",
    "price = []"
   ]
  },
  {
   "cell_type": "code",
   "execution_count": null,
   "id": "5c5648bf",
   "metadata": {},
   "outputs": [],
   "source": [
    "for i in urls:\n",
    "    driver.get(i)\n",
    "    time.sleep(2)\n",
    "    \n",
    "    # fetching location of used cars\n",
    "    try:\n",
    "        location_tag = driver.find_element_by_xpath(\"//p[@class='_2NHUv']//span\")\n",
    "        location.append(location_tag.text)\n",
    "    except NoSuchElementException:\n",
    "        location.append('None')\n",
    "        \n",
    "    # fetching manufacturing year of used cars\n",
    "    try:\n",
    "        year_tag = driver.find_element_by_xpath(\"//strong[@class='category']//span\")\n",
    "        year.append(year_tag.text)\n",
    "    except NoSuchElementException:\n",
    "        year.append('None')\n",
    "        \n",
    "    # fetching number of kms driven of used cars\n",
    "    try:\n",
    "        year_tag = driver.find_element_by_xpath(\"//div[@class='keyword']//span\")\n",
    "        kms_driven.append(year_tag.text)\n",
    "    except NoSuchElementException:\n",
    "        kms_driven.append('None')\n",
    "        \n",
    "    # fetching model name of used cars\n",
    "    try:\n",
    "        year_tag = driver.find_element_by_xpath(\"//a[@class='_1UhVsV']//span\")\n",
    "        car_model.append(year_tag.text)\n",
    "    except NoSuchElementException:\n",
    "        car_model.append('None')\n",
    "        \n",
    "    # fetching owner details of used cars\n",
    "    try:\n",
    "        year_tag = driver.find_element_by_xpath(\"//span[@class='_1FH0tX']//span\")\n",
    "        owners.append(year_tag.text)\n",
    "    except NoSuchElementException:\n",
    "        owners.append('None')\n",
    "        \n",
    "    # fetching transmission details of used cars\n",
    "    try:\n",
    "        year_tag = driver.find_element_by_xpath(\"//h2[@class='yhB1nd']//span\")\n",
    "        transmisson.append(year_tag.text)\n",
    "    except NoSuchElementException:\n",
    "        transmission.append('None')\n",
    "        \n",
    "    # fetching fuel type of used cars\n",
    "    try:\n",
    "        year_tag = driver.find_element_by_xpath(\"//div[@class='fMghEO']//span\")\n",
    "        fuel_type.append(year_tag.text)\n",
    "    except NoSuchElementException:\n",
    "        fuel_type.append('None')\n",
    "        \n",
    "    # fetching price of used cars\n",
    "    try:\n",
    "        year_tag = driver.find_element_by_xpath(\"//p[@class='/html/body/div[1]/div/div[1]/div[1]/div[2]/div[2]/form/div/']//span\")\n",
    "        price.append(year_tag.text)\n",
    "    except NoSuchElementException:\n",
    "        price.append('None')"
   ]
  },
  {
   "cell_type": "code",
   "execution_count": null,
   "id": "9d2338ea",
   "metadata": {
    "scrolled": false
   },
   "outputs": [],
   "source": [
    "cars=pd.DataFrame({'place':location,'model':car_model,'year':year,'price':price,'km_driven':kms_driven,'owners':owners,\n",
    "                   'fuel':fuel_type,'transmission':transmission})\n",
    "cars"
   ]
  },
  {
   "cell_type": "code",
   "execution_count": null,
   "id": "45996076",
   "metadata": {},
   "outputs": [],
   "source": [
    "cars.to_csv(\"Used_Car_Data.csv\")"
   ]
  }
 ],
 "metadata": {
  "kernelspec": {
   "display_name": "Python 3",
   "language": "python",
   "name": "python3"
  },
  "language_info": {
   "codemirror_mode": {
    "name": "ipython",
    "version": 3
   },
   "file_extension": ".py",
   "mimetype": "text/x-python",
   "name": "python",
   "nbconvert_exporter": "python",
   "pygments_lexer": "ipython3",
   "version": "3.8.8"
  }
 },
 "nbformat": 4,
 "nbformat_minor": 5
}
